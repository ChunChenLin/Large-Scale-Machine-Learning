{
 "cells": [
  {
   "cell_type": "code",
   "execution_count": 1,
   "metadata": {
    "collapsed": false
   },
   "outputs": [
    {
     "name": "stdout",
     "output_type": "stream",
     "text": [
      "[nltk_data] Downloading package stopwords to /Users/peter/nltk_data...\n",
      "[nltk_data]   Package stopwords is already up-to-date!\n"
     ]
    }
   ],
   "source": [
    "from IPython.display import Image\n",
    "from IPython.display import display\n",
    "\n",
    "# inline plotting instead of popping out\n",
    "%matplotlib inline\n",
    "\n",
    "# load utility classes/functions that has been taught in previous labs\n",
    "# e.g., plot_decision_regions()\n",
    "import os, sys\n",
    "module_path = os.path.abspath(os.path.join('.'))\n",
    "sys.path.append(module_path)\n",
    "from lib import *"
   ]
  },
  {
   "cell_type": "code",
   "execution_count": 2,
   "metadata": {
    "collapsed": false
   },
   "outputs": [
    {
     "name": "stderr",
     "output_type": "stream",
     "text": [
      "Using Theano backend.\n"
     ]
    }
   ],
   "source": [
    "from keras.models import Sequential\n",
    "from keras.layers import Dense, Activation\n",
    "\n",
    "model = Sequential() \n",
    "model.add(Dense(input_dim=512, output_dim=32))\n",
    "model.add(Activation('relu'))\n",
    "model.add(Dense(output_dim=1))\n",
    "model.add(Activation('sigmoid'))"
   ]
  },
  {
   "cell_type": "code",
   "execution_count": 4,
   "metadata": {
    "collapsed": false
   },
   "outputs": [
    {
     "data": {
      "text/plain": [
       "\"model = Sequential([\\n    Dense(input_dim=512, output_dim=32),\\n    Activation('relu'),\\n    Dense(output_dim=1),\\n    Activation('sigmoid'),\\n])\""
      ]
     },
     "execution_count": 4,
     "metadata": {},
     "output_type": "execute_result"
    }
   ],
   "source": [
    "'''model = Sequential([\n",
    "    Dense(input_dim=512, output_dim=32),\n",
    "    Activation('relu'),\n",
    "    Dense(output_dim=1),\n",
    "    Activation('sigmoid'),\n",
    "])'''"
   ]
  },
  {
   "cell_type": "code",
   "execution_count": 3,
   "metadata": {
    "collapsed": true
   },
   "outputs": [],
   "source": [
    "# for a binary classification problem\n",
    "from keras.optimizers import SGD\n",
    "\n",
    "# instantiate an optimizer with specific parameters\n",
    "sgd = SGD(lr=0.01, decay=1e-6, momentum=0.9)\n",
    "model.compile(optimizer=sgd,\n",
    "              loss='binary_crossentropy',\n",
    "              metrics=['accuracy'])"
   ]
  },
  {
   "cell_type": "code",
   "execution_count": null,
   "metadata": {
    "collapsed": true
   },
   "outputs": [],
   "source": [
    "# or use default parameters\n",
    "'''\n",
    "model.compile(optimizer='sgd',\n",
    "              loss='binary_crossentropy',\n",
    "              metrics=['accuracy'])\n",
    "'''"
   ]
  },
  {
   "cell_type": "code",
   "execution_count": 4,
   "metadata": {
    "collapsed": true
   },
   "outputs": [],
   "source": [
    "def gen_nn(input_dim=512, width=32, depth=2):\n",
    "    model = Sequential()\n",
    "    model.add(Dense(input_dim=input_dim, output_dim=width))\n",
    "    model.add(Activation('relu'))\n",
    "    for k in range(2, depth):\n",
    "        model.add(Dense(output_dim=width))\n",
    "        model.add(Activation('relu'))\n",
    "    model.add(Dense(output_dim=1))\n",
    "    model.add(Activation('sigmoid'))\n",
    "    model.compile(optimizer='sgd',\n",
    "                  loss='binary_crossentropy',\n",
    "                  metrics=['accuracy'])\n",
    "    return model"
   ]
  },
  {
   "cell_type": "code",
   "execution_count": 5,
   "metadata": {
    "collapsed": false
   },
   "outputs": [],
   "source": [
    "from sklearn.datasets import fetch_20newsgroups\n",
    "\n",
    "# we take 2 news groups:\n",
    "# 1) rec : recreational activities (entertainment)\n",
    "# 2) sci : science\n",
    "categories = [\n",
    "    'rec.autos',\n",
    "    'rec.motorcycles',\n",
    "    'rec.sport.baseball',\n",
    "    'rec.sport.hockey',\n",
    "    'sci.crypt',\n",
    "    'sci.electronics',\n",
    "    'sci.med',\n",
    "    'sci.space',\n",
    "]\n",
    "\n",
    "# remove the following context, we only need the content\n",
    "remove = ('headers', 'footers', 'quotes')\n",
    "\n",
    "# after fetching the data\n",
    "# content will store in newsgroups.data\n",
    "# label will store in newsgroups.target\n",
    "newsgroups = fetch_20newsgroups(subset='all', categories=categories,\n",
    "                                     shuffle=True, random_state=0,\n",
    "                                     remove=remove)"
   ]
  },
  {
   "cell_type": "code",
   "execution_count": 6,
   "metadata": {
    "collapsed": false
   },
   "outputs": [
    {
     "name": "stdout",
     "output_type": "stream",
     "text": [
      "#Data size: 7931\n",
      "Labels: [0 1 2 3 4 5 6 7]\n"
     ]
    }
   ],
   "source": [
    "print('#Data size: %s' % np.shape(newsgroups.data))\n",
    "print('Labels: %s' % np.unique(newsgroups.target))"
   ]
  },
  {
   "cell_type": "code",
   "execution_count": 7,
   "metadata": {
    "collapsed": false
   },
   "outputs": [],
   "source": [
    "from sklearn.feature_extraction.text import TfidfVectorizer\n",
    "from sklearn.model_selection import train_test_split\n",
    "\n",
    "# for simplicity, we only take 512 features\n",
    "vectorizer = TfidfVectorizer(analyzer='word', ngram_range=(1, 1), max_features=512, sublinear_tf=True, \n",
    "                             max_df=0.5, preprocessor=preprocessor, tokenizer=tokenizer_stem_nostop)\n",
    "\n",
    "X = vectorizer.fit_transform(newsgroups.data).toarray()\n",
    "y = (newsgroups.target > 3).astype(int) # sci\n",
    "\n",
    "X_train, X_test, y_train, y_test = train_test_split(\n",
    "    X, y, test_size=0.25, random_state=0)\n",
    "\n",
    "# the dictionary map from word to feature index\n",
    "dictionary = vectorizer.vocabulary_\n",
    "\n",
    "# construct inverse_dictionary for later use\n",
    "inverse_dictionary = {v: k for k, v in dictionary.items()}"
   ]
  },
  {
   "cell_type": "code",
   "execution_count": 27,
   "metadata": {
    "collapsed": false
   },
   "outputs": [
    {
     "name": "stdout",
     "output_type": "stream",
     "text": [
      "CPU times: user 36.9 s, sys: 3.37 s, total: 40.3 s\n",
      "Wall time: 1min 6s\n",
      "\n",
      "Test loss: 0.386\n",
      "Test accuracy: 0.830\n"
     ]
    }
   ],
   "source": [
    "import time\n",
    "\n",
    "batch_size = 32\n",
    "\n",
    "model = gen_nn(input_dim=X_train.shape[1])\n",
    "%time his = model.fit(X_train, y_train, nb_epoch=400, \\\n",
    "                      batch_size=batch_size, \\\n",
    "                      validation_split=0.2, \\\n",
    "                      shuffle=True, verbose=0)\n",
    "# evaluate trained model\n",
    "score = model.evaluate(X_test, y_test, verbose=0)\n",
    "print('\\nTest loss: %.3f' % score[0])\n",
    "print('Test accuracy: %.3f' % score[1])"
   ]
  },
  {
   "cell_type": "code",
   "execution_count": 31,
   "metadata": {
    "collapsed": false
   },
   "outputs": [
    {
     "data": {
      "image/png": "[encoded data removed]",
      "text/plain": [
       "<matplotlib.figure.Figure at 0x113f78198>"
      ]
     },
     "metadata": {},
     "output_type": "display_data"
    }
   ],
   "source": [
    "train_loss = his.history['loss']\n",
    "val_loss = his.history['val_loss']\n",
    "\n",
    "# visualize training history\n",
    "plt.plot(range(1, len(train_loss)+1), train_loss, color='blue', label='Train loss')\n",
    "plt.plot(range(1, len(val_loss)+1), val_loss, color='red', label='Val loss')\n",
    "plt.legend(loc=\"upper right\")\n",
    "plt.xlabel('#Epoch')\n",
    "plt.ylabel('Loss')\n",
    "plt.savefig('./output/fig-nn-val.png', dpi=300)\n",
    "plt.show()"
   ]
  },
  {
   "cell_type": "code",
   "execution_count": 34,
   "metadata": {
    "collapsed": false
   },
   "outputs": [
    {
     "name": "stdout",
     "output_type": "stream",
     "text": [
      "CPU times: user 15.4 s, sys: 1.27 s, total: 16.7 s\n",
      "Wall time: 16.1 s\n",
      "\n",
      "Test loss: 0.357\n",
      "Test accuracy: 0.834\n"
     ]
    }
   ],
   "source": [
    "model = gen_nn(input_dim=X_train.shape[1])\n",
    "%time his = model.fit(X_train, y_train, nb_epoch=150, \\\n",
    "                      batch_size=batch_size, \\\n",
    "                      validation_split=0.2, \\\n",
    "                      shuffle=True, verbose=0)\n",
    "# evaluate trained model\n",
    "score = model.evaluate(X_test, y_test, verbose=0)\n",
    "print('\\nTest loss: %.3f' % score[0])\n",
    "print('Test accuracy: %.3f' % score[1])"
   ]
  },
  {
   "cell_type": "code",
   "execution_count": 35,
   "metadata": {
    "collapsed": false
   },
   "outputs": [
    {
     "name": "stdout",
     "output_type": "stream",
     "text": [
      "CPU times: user 24.1 s, sys: 1.95 s, total: 26.1 s\n",
      "Wall time: 26.4 s\n",
      "\n",
      "Test loss: 0.360\n",
      "Test accuracy: 0.834\n"
     ]
    },
    {
     "data": {
      "image/png": "[encoded data removed]",
      "text/plain": [
       "<matplotlib.figure.Figure at 0x11bbb2eb8>"
      ]
     },
     "metadata": {},
     "output_type": "display_data"
    }
   ],
   "source": [
    "from keras.callbacks import EarlyStopping\n",
    "\n",
    "model = gen_nn(input_dim=X_train.shape[1])\n",
    "\n",
    "# monitor the validation loss\n",
    "# min_delta : minimum change in the monitored quantity to qualify as an improvement\n",
    "# patience : number of epochs with no improvement after which training will be stopped\n",
    "early_stop = EarlyStopping(monitor='val_loss', min_delta=0, patience=20, verbose=0)\n",
    "\n",
    "%time his = model.fit(X_train, y_train, \\\n",
    "                      nb_epoch=1000, \\\n",
    "                      batch_size=batch_size, \\\n",
    "                      validation_split=0.2, \\\n",
    "                      shuffle=True, verbose=0, \\\n",
    "                      callbacks=[early_stop])\n",
    "\n",
    "# evaluate trained model\n",
    "score = model.evaluate(X_test, y_test, verbose=0)\n",
    "print('\\nTest loss: %.3f' % score[0])\n",
    "print('Test accuracy: %.3f' % score[1])\n",
    "\n",
    "train_loss = his.history['loss']\n",
    "val_loss = his.history['val_loss']\n",
    "\n",
    "# visualize training history\n",
    "plt.plot(range(1, len(train_loss)+1), train_loss, color='blue', label='Train loss')\n",
    "plt.plot(range(1, len(val_loss)+1), val_loss, color='red', label='Val loss')\n",
    "plt.xlim(0, len(train_loss))\n",
    "plt.legend(loc=\"upper right\")\n",
    "plt.xlabel('#Epoch')\n",
    "plt.ylabel('Loss')\n",
    "plt.savefig('./output/fig-nn-val-earlystop.png', dpi=300)\n",
    "plt.show()"
   ]
  },
  {
   "cell_type": "code",
   "execution_count": 36,
   "metadata": {
    "collapsed": false
   },
   "outputs": [
    {
     "name": "stdout",
     "output_type": "stream",
     "text": [
      "CPU times: user 18.2 s, sys: 62.6 ms, total: 18.3 s\n",
      "Wall time: 9.43 s\n"
     ]
    }
   ],
   "source": [
    "import gensim\n",
    "\n",
    "# preprocess the text\n",
    "corpus = []\n",
    "for text in newsgroups.data:\n",
    "    corpus.append(tokenizer_stem_nostop(preprocessor(text)))\n",
    "\n",
    "# size : embed dimension\n",
    "# min_count : filter words without min frequency\n",
    "# sg : 0 for CBOW; 1 for skip-gram\n",
    "# negative : how many noise words should be drawn\n",
    "%time model_w2v = gensim.models.Word2Vec(corpus, size=64, min_count=5, sg=1, negative=5, workers=2)"
   ]
  },
  {
   "cell_type": "code",
   "execution_count": 41,
   "metadata": {
    "collapsed": false
   },
   "outputs": [
    {
     "data": {
      "text/plain": [
       "[('dealer', 0.8811931610107422),\n",
       " ('carnum', 0.8751373291015625),\n",
       " ('tires', 0.8727238178253174),\n",
       " ('auto', 0.8698107004165649),\n",
       " ('toyota', 0.8641738295555115),\n",
       " ('cars', 0.8555583953857422),\n",
       " ('nissan', 0.8509359359741211),\n",
       " ('taurus', 0.8422687649726868),\n",
       " ('sho', 0.8414863348007202),\n",
       " ('ford', 0.8391882181167603)]"
      ]
     },
     "metadata": {},
     "output_type": "display_data"
    },
    {
     "data": {
      "text/plain": [
       "[('football', 0.8458802103996277),\n",
       " ('basketball', 0.8432847857475281),\n",
       " ('manager', 0.8401429653167725),\n",
       " ('hockey', 0.8274414539337158),\n",
       " ('fans', 0.8264901041984558),\n",
       " ('comment', 0.8214669227600098),\n",
       " ('hockeynum', 0.8210901021957397),\n",
       " ('predictions', 0.8209678530693054),\n",
       " ('aaa', 0.8197799921035767),\n",
       " ('europeans', 0.8187340497970581)]"
      ]
     },
     "metadata": {},
     "output_type": "display_data"
    },
    {
     "data": {
      "text/plain": [
       "[('networks', 0.9103769063949585),\n",
       " ('identification', 0.9005450010299683),\n",
       " ('computer', 0.8913627862930298),\n",
       " ('bulletin', 0.8840085864067078),\n",
       " ('policies', 0.876185417175293),\n",
       " ('identity', 0.8623677492141724),\n",
       " ('universities', 0.8616251945495605),\n",
       " ('directories', 0.8612287640571594),\n",
       " ('administrative', 0.8588621020317078),\n",
       " ('businesses', 0.8577418327331543)]"
      ]
     },
     "metadata": {},
     "output_type": "display_data"
    },
    {
     "data": {
      "text/plain": [
       "[('national', 0.8200203776359558),\n",
       " ('america', 0.7982016801834106),\n",
       " ('association', 0.785031795501709),\n",
       " ('north', 0.7727607488632202),\n",
       " ('statenum', 0.7612690925598145),\n",
       " ('florida', 0.752049446105957),\n",
       " ('spanish', 0.7496165037155151),\n",
       " ('associationnum', 0.7446036338806152),\n",
       " ('california', 0.7414982318878174),\n",
       " ('city', 0.7405329942703247)]"
      ]
     },
     "metadata": {},
     "output_type": "display_data"
    }
   ],
   "source": [
    "display(model_w2v.most_similar('car'))\n",
    "display(model_w2v.most_similar('baseball'))\n",
    "display(model_w2v.most_similar('electronic'))\n",
    "display(model_w2v.most_similar('american'))"
   ]
  },
  {
   "cell_type": "code",
   "execution_count": 42,
   "metadata": {
    "collapsed": false
   },
   "outputs": [
    {
     "data": {
      "text/plain": [
       "[('owner', 0.8814496397972107),\n",
       " ('camaro', 0.8321303129196167),\n",
       " ('mustang', 0.829980731010437),\n",
       " ('civic', 0.8181403279304504),\n",
       " ('owned', 0.8064216375350952),\n",
       " ('dodge', 0.7945497035980225),\n",
       " ('chevy', 0.7939352989196777),\n",
       " ('owners', 0.7933319211006165),\n",
       " ('honda', 0.7885527610778809),\n",
       " ('gt', 0.7798418998718262)]"
      ]
     },
     "metadata": {},
     "output_type": "display_data"
    }
   ],
   "source": [
    "display(model_w2v.most_similar(positive=['america', 'bmw'], negative=['europe']))"
   ]
  },
  {
   "cell_type": "code",
   "execution_count": 43,
   "metadata": {
    "collapsed": false
   },
   "outputs": [
    {
     "data": {
      "text/plain": [
       "[('leaguenum', 0.9225832223892212),\n",
       " ('leagues', 0.9125382900238037),\n",
       " ('basketball', 0.907150149345398),\n",
       " ('championship', 0.9026291370391846),\n",
       " ('stanley', 0.8979941010475159),\n",
       " ('teamnum', 0.8915866613388062),\n",
       " ('afternoon', 0.8907722234725952),\n",
       " ('nba', 0.8903216123580933),\n",
       " ('franchise', 0.8889177441596985),\n",
       " ('expansion', 0.8884275555610657)]"
      ]
     },
     "metadata": {},
     "output_type": "display_data"
    }
   ],
   "source": [
    "display(model_w2v.most_similar(positive=['america', 'soccer'], negative=['europe']))"
   ]
  },
  {
   "cell_type": "code",
   "execution_count": 44,
   "metadata": {
    "collapsed": true
   },
   "outputs": [],
   "source": [
    "def tfidf_word2vec_transform(model_w2v, embed_dim, inv_dic_tfidf, score_tfidf):\n",
    "    tfidf_word2vec = np.zeros((score_tfidf.shape[0], embed_dim))\n",
    "    for i in range(score_tfidf.shape[0]):\n",
    "        doc_word2vec = np.zeros(embed_dim)\n",
    "        for j in range(score_tfidf.shape[1]):\n",
    "            doc_word2vec += score_tfidf[i, j] * model_w2v[inv_dic_tfidf[j]]\n",
    "        tfidf_word2vec[i, :] = doc_word2vec\n",
    "    return tfidf_word2vec\n",
    "\n",
    "X_train_w2v = tfidf_word2vec_transform(model_w2v, 64, inverse_dictionary, X_train)\n",
    "X_test_w2v = tfidf_word2vec_transform(model_w2v, 64, inverse_dictionary, X_test)"
   ]
  },
  {
   "cell_type": "code",
   "execution_count": 45,
   "metadata": {
    "collapsed": false
   },
   "outputs": [
    {
     "name": "stdout",
     "output_type": "stream",
     "text": [
      "CPU times: user 18.1 s, sys: 130 ms, total: 18.2 s\n",
      "Wall time: 18.5 s\n",
      "\n",
      "Test loss: 0.366\n",
      "Test accuracy: 0.831\n"
     ]
    },
    {
     "data": {
      "image/png": "[encoded data removed]",
      "text/plain": [
       "<matplotlib.figure.Figure at 0x12703d438>"
      ]
     },
     "metadata": {},
     "output_type": "display_data"
    }
   ],
   "source": [
    "batch_size = 32\n",
    "\n",
    "model = gen_nn(input_dim=X_train_w2v.shape[1])\n",
    "        \n",
    "%time his = model.fit(X_train_w2v, y_train, \\\n",
    "                      nb_epoch=1000, \\\n",
    "                      batch_size=batch_size, \\\n",
    "                      validation_split=0.2, \\\n",
    "                      shuffle=True, verbose=0, \\\n",
    "                      callbacks=[early_stop])\n",
    "\n",
    "# evaluate trained model\n",
    "score = model.evaluate(X_test_w2v, y_test, verbose=0)\n",
    "print('\\nTest loss: %.3f' % score[0])\n",
    "print('Test accuracy: %.3f' % score[1])\n",
    "train_loss = his.history['loss']\n",
    "val_loss = his.history['val_loss']\n",
    "\n",
    "# visualize training history\n",
    "plt.plot(range(1, len(train_loss)+1), train_loss, color='blue', label='Train loss')\n",
    "plt.plot(range(1, len(val_loss)+1), val_loss, color='red', label='Val loss')\n",
    "plt.xlim(0, len(train_loss))\n",
    "plt.legend(loc=\"upper right\")\n",
    "plt.xlabel('#Epoch')\n",
    "plt.ylabel('Loss')\n",
    "plt.savefig('./output/fig-nn-w2v-val.png', dpi=300)\n",
    "plt.show()"
   ]
  }
 ],
 "metadata": {
  "anaconda-cloud": {},
  "kernelspec": {
   "display_name": "Python [conda root]",
   "language": "python",
   "name": "conda-root-py"
  },
  "language_info": {
   "codemirror_mode": {
    "name": "ipython",
    "version": 3
   },
   "file_extension": ".py",
   "mimetype": "text/x-python",
   "name": "python",
   "nbconvert_exporter": "python",
   "pygments_lexer": "ipython3",
   "version": "3.5.2"
  }
 },
 "nbformat": 4,
 "nbformat_minor": 1
}
